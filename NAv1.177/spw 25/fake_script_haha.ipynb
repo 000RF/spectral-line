{
 "cells": [
  {
   "cell_type": "code",
   "execution_count": 1,
   "id": "6a2a617b",
   "metadata": {},
   "outputs": [],
   "source": [
    "import pandas as pd\n",
    "import matplotlib.pyplot as plt\n",
    "from scipy.ndimage import gaussian_filter1d\n",
    "import numpy as np"
   ]
  },
  {
   "cell_type": "code",
   "execution_count": null,
   "id": "27539737",
   "metadata": {},
   "outputs": [],
   "source": [
    "file_path = \"\"\n",
    "\n",
    "df = pd.read_csv(file_path, sep=\"\\t\", skiprows=5)\n",
    "df.columns = [col.strip().lstrip(\"#\").strip() for col in df.columns]\n",
    "\n",
    "df[df.columns[0]] = pd.to_numeric(df[df.columns[0]], errors='coerce')\n",
    "df[df.columns[1]] = pd.to_numeric(df[df.columns[1]], errors='coerce')\n",
    "df = df.dropna()\n",
    "\n",
    "x = df[df.columns[0]]\n",
    "y = df[df.columns[1]] * 1000  #Jy → mJy\n",
    "\n",
    "my_lines =[(   , \"\")] #freq. , label"
   ]
  },
  {
   "cell_type": "code",
   "execution_count": null,
   "id": "a4b26391",
   "metadata": {},
   "outputs": [],
   "source": [
    "#define binning & boxcar smoothing\n",
    "def boxcar_smooth(y, kernel_size):\n",
    "    kernel = np.ones(kernel_size)/kernel_size\n",
    "    return np.convolve(y, kernel, mode=\"same\")\n",
    "\n",
    "def rebin_spectrum(x, y, bin_size):\n",
    "    x = np.array(x)\n",
    "    y = np.array(y)\n",
    "    n_bins = len(y) // bin_size\n",
    "    x = x[:n_bins * bin_size]\n",
    "    y = y[:n_bins * bin_size]\n",
    "    x_binned = x.reshape(n_bins, bin_size).mean(axis=1)\n",
    "    y_binned = y.reshape(n_bins, bin_size).mean(axis=1)\n",
    "    return x_binned, y_binned"
   ]
  },
  {
   "cell_type": "code",
   "execution_count": null,
   "id": "817782ff",
   "metadata": {},
   "outputs": [],
   "source": [
    "#original data\n",
    "plt.figure(figsize=(8, 4))\n",
    "plt.plot(x, y, label=\"Original Data\", color=\"blue\", linewidth=1)\n",
    "plt.xlabel(\"frequency (GHz)\")\n",
    "plt.ylabel(\"Intensity (mJy/beam)\")\n",
    "for freq, label in my_lines:\n",
    "    plt.axvline(freq, color=\"red\", linestyle=\"-\", alpha=0.6)\n",
    "    plt.text(freq, max(y)*0.9, label, rotation=90, color=\"red\", fontsize=10, ha='right', va='top')\n",
    "plt.title(\"    \")\n",
    "plt.grid(False)\n",
    "plt.legend()\n",
    "plt.show()"
   ]
  },
  {
   "cell_type": "code",
   "execution_count": null,
   "id": "47f3420d",
   "metadata": {},
   "outputs": [],
   "source": [
    "'''\n",
    "#if you need to binning + boxcar smoothing\n",
    "\n",
    "x_binned, y_binned = rebin_spectrum(x, y, bin_size=    )\n",
    "y_binned_boxcar = boxcar_smooth(y_binned, kernel_size=    )\n",
    "\n",
    "plt.figure(figsize=(8, 4))\n",
    "plt.plot(x_binned, y_binned_boxcar, color=\"black\", linewidth=1, label=\"Boxcar (k=    )+binning(b=    )\")\n",
    "for freq, label in my_lines:\n",
    "    plt.axvline(freq, color=\"red\", linestyle=\"-\", alpha=0.6)\n",
    "    plt.text(freq, max(y_binned_boxcar)*0.1, label, rotation=90, color=\"red\", fontsize=10, ha='right', va='top')\n",
    "plt.xlabel(\"frequency (GHz)\")\n",
    "plt.ylabel(\"Flux Density (mJy/beam)\")\n",
    "plt.title(\"    \")\n",
    "plt.xlim(    ,     )\n",
    "#plt.ylim(    ,     )\n",
    "plt.axhline(0, color=\"black\", linewidth=1, linestyle=\"--\")\n",
    "plt.grid(False)\n",
    "plt.legend()\n",
    "\n",
    "'''\n",
    "\n",
    "'''\n",
    "#if you just need boxcar smoothing\n",
    "\n",
    "y_boxcar = boxcar_smooth(y, kernel_size=4)\n",
    "\n",
    "plt.figure(figsize=(8, 4))\n",
    "plt.plot(x, y_boxcar, color=\"black\", linewidth=1, label=\"Boxcar (k=    )\")\n",
    "for freq, label in my_lines:\n",
    "    plt.axvline(freq, color=\"red\", linestyle=\"-\", alpha=0.6)\n",
    "    plt.text(freq, max(y_boxcar)*0.9, label, rotation=90, color=\"red\", fontsize=10, ha='right', va='top')\n",
    "plt.xlabel(\"freq. (GHz)\")\n",
    "plt.ylabel(\"Flux Density (mJy/beam)\")\n",
    "plt.title(\"    \")\n",
    "plt.xlim(    ,     )\n",
    "plt.axhline(0, color=\"black\", linewidth=1, linestyle=\"--\")\n",
    "plt.grid(False)\n",
    "plt.legend()\n",
    "'''"
   ]
  }
 ],
 "metadata": {
  "kernelspec": {
   "display_name": "Python 3",
   "language": "python",
   "name": "python3"
  },
  "language_info": {
   "codemirror_mode": {
    "name": "ipython",
    "version": 3
   },
   "file_extension": ".py",
   "mimetype": "text/x-python",
   "name": "python",
   "nbconvert_exporter": "python",
   "pygments_lexer": "ipython3",
   "version": "3.13.5"
  }
 },
 "nbformat": 4,
 "nbformat_minor": 5
}
